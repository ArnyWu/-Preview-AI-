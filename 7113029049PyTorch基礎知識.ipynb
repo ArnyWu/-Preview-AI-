{
  "nbformat": 4,
  "nbformat_minor": 0,
  "metadata": {
    "colab": {
      "provenance": [],
      "collapsed_sections": [
        "lDzGQKTcgYPv",
        "MQqkhyk7g8NP",
        "oEVlD4FWjSlm",
        "YGUfV_Egjx7-",
        "HhAe5nbXlhQ8",
        "TF51H_mymmfn",
        "0g_jzQHto95_",
        "RikQAOdm5KQi",
        "7fG26vtm8OoL"
      ],
      "authorship_tag": "ABX9TyNTBLEpeHmzUtG0zx+Fv9sQ",
      "include_colab_link": true
    },
    "kernelspec": {
      "name": "python3",
      "display_name": "Python 3"
    },
    "language_info": {
      "name": "python"
    }
  },
  "cells": [
    {
      "cell_type": "markdown",
      "metadata": {
        "id": "view-in-github",
        "colab_type": "text"
      },
      "source": [
        "<a href=\"https://colab.research.google.com/github/ArnyWu/-Preview-AI-/blob/main/7113029049PyTorch%E5%9F%BA%E7%A4%8E%E7%9F%A5%E8%AD%98.ipynb\" target=\"_parent\"><img src=\"https://colab.research.google.com/assets/colab-badge.svg\" alt=\"Open In Colab\"/></a>"
      ]
    },
    {
      "cell_type": "markdown",
      "source": [
        "\n",
        "\n",
        "torch tensor教學筆記\n",
        "\n"
      ],
      "metadata": {
        "id": "RpXhqwMXeWrZ"
      }
    },
    {
      "cell_type": "code",
      "execution_count": 1,
      "metadata": {
        "id": "NY57WXYvdzCH"
      },
      "outputs": [],
      "source": [
        "import torch"
      ]
    },
    {
      "cell_type": "code",
      "source": [
        "z = torch.Tensor(4,5) #維度尺寸(二維)\n",
        "z"
      ],
      "metadata": {
        "colab": {
          "base_uri": "https://localhost:8080/"
        },
        "id": "_TIiqq0xeaEy",
        "outputId": "47c6f56e-c934-4dce-8614-4fbcc133f9fb"
      },
      "execution_count": 5,
      "outputs": [
        {
          "output_type": "execute_result",
          "data": {
            "text/plain": [
              "tensor([[6.7014e-10, 6.8684e-07, 2.1707e-18, 1.6678e+19, 7.0976e+22],\n",
              "        [2.1715e-18, 4.2330e+21, 1.6534e+19, 1.1625e+27, 1.4580e-19],\n",
              "        [7.1856e+22, 4.3605e+27, 1.5766e-19, 7.1856e+22, 4.3605e+27],\n",
              "        [1.4580e-19, 1.8179e+31, 1.8524e+28, 2.1715e-18, 2.1860e-04]])"
            ]
          },
          "metadata": {},
          "execution_count": 5
        }
      ]
    },
    {
      "cell_type": "markdown",
      "source": [
        "\n",
        "\n",
        "> 以多層list來表現\n",
        "\n"
      ],
      "metadata": {
        "id": "GxsGLXxue12J"
      }
    },
    {
      "cell_type": "code",
      "source": [
        "z.dtype"
      ],
      "metadata": {
        "colab": {
          "base_uri": "https://localhost:8080/"
        },
        "id": "qqo8w0eeeqvU",
        "outputId": "8ac958e0-95f9-474a-b081-e5dbfa83ed4f"
      },
      "execution_count": 6,
      "outputs": [
        {
          "output_type": "execute_result",
          "data": {
            "text/plain": [
              "torch.float32"
            ]
          },
          "metadata": {},
          "execution_count": 6
        }
      ]
    },
    {
      "cell_type": "markdown",
      "source": [
        "##  1. 浮點數tensor\n",
        "\n"
      ],
      "metadata": {
        "id": "lDzGQKTcgYPv"
      }
    },
    {
      "cell_type": "code",
      "source": [
        "a = torch.FloatTensor(4,5)\n",
        "b = torch.FloatTensor([[2,3],[4,5]])\n",
        "a"
      ],
      "metadata": {
        "colab": {
          "base_uri": "https://localhost:8080/"
        },
        "id": "wmhRv15GfO7O",
        "outputId": "db92d976-674f-4bbe-81b3-874ecc256e52"
      },
      "execution_count": 7,
      "outputs": [
        {
          "output_type": "execute_result",
          "data": {
            "text/plain": [
              "tensor([[9.4708e-25, 4.5209e-41, 7.4952e+03, 3.3256e-41, 0.0000e+00],\n",
              "        [0.0000e+00, 0.0000e+00, 0.0000e+00, 0.0000e+00, 0.0000e+00],\n",
              "        [0.0000e+00, 0.0000e+00, 0.0000e+00, 0.0000e+00, 0.0000e+00],\n",
              "        [0.0000e+00, 0.0000e+00, 0.0000e+00, 0.0000e+00, 0.0000e+00]])"
            ]
          },
          "metadata": {},
          "execution_count": 7
        }
      ]
    },
    {
      "cell_type": "code",
      "source": [
        "b"
      ],
      "metadata": {
        "colab": {
          "base_uri": "https://localhost:8080/"
        },
        "id": "i50rg4eNgPQ6",
        "outputId": "a2ebcc73-1dea-47fd-cfc6-72353d20ab74"
      },
      "execution_count": 8,
      "outputs": [
        {
          "output_type": "execute_result",
          "data": {
            "text/plain": [
              "tensor([[2., 3.],\n",
              "        [4., 5.]])"
            ]
          },
          "metadata": {},
          "execution_count": 8
        }
      ]
    },
    {
      "cell_type": "code",
      "source": [
        "a.dtype"
      ],
      "metadata": {
        "colab": {
          "base_uri": "https://localhost:8080/"
        },
        "id": "cf5BuvAJgSaI",
        "outputId": "db2ba0e4-8fd2-4220-fba2-fccd3aa97c45"
      },
      "execution_count": 9,
      "outputs": [
        {
          "output_type": "execute_result",
          "data": {
            "text/plain": [
              "torch.float32"
            ]
          },
          "metadata": {},
          "execution_count": 9
        }
      ]
    },
    {
      "cell_type": "code",
      "source": [
        "b.dtype"
      ],
      "metadata": {
        "colab": {
          "base_uri": "https://localhost:8080/"
        },
        "id": "Jso0ZyqsgUm5",
        "outputId": "e4c06f02-a39a-46af-857b-c6be43243a76"
      },
      "execution_count": 10,
      "outputs": [
        {
          "output_type": "execute_result",
          "data": {
            "text/plain": [
              "torch.float32"
            ]
          },
          "metadata": {},
          "execution_count": 10
        }
      ]
    },
    {
      "cell_type": "markdown",
      "source": [
        "## 2. 整數tensor"
      ],
      "metadata": {
        "id": "MQqkhyk7g8NP"
      }
    },
    {
      "cell_type": "code",
      "source": [
        "a = torch.IntTensor(4,5)\n",
        "b = torch.IntTensor([[2,3],[4,5]])\n",
        "a"
      ],
      "metadata": {
        "colab": {
          "base_uri": "https://localhost:8080/"
        },
        "id": "hOl198_6gU2c",
        "outputId": "81282b68-d104-41df-ff0e-46c4e99d8020"
      },
      "execution_count": 11,
      "outputs": [
        {
          "output_type": "execute_result",
          "data": {
            "text/plain": [
              "tensor([[1015451160,      32261, 1015451160,      32261,          0],\n",
              "        [         0,          3,          0,  902968832,          1],\n",
              "        [         9,      32261,   83545240, 1479713700,         97],\n",
              "        [         0, 1172844240,      23732, 1170650192,      23732]],\n",
              "       dtype=torch.int32)"
            ]
          },
          "metadata": {},
          "execution_count": 11
        }
      ]
    },
    {
      "cell_type": "code",
      "source": [
        "b"
      ],
      "metadata": {
        "colab": {
          "base_uri": "https://localhost:8080/"
        },
        "id": "tn2IoE8rhNFZ",
        "outputId": "28e664d7-7651-4f7b-de0e-24c23cf379c6"
      },
      "execution_count": 12,
      "outputs": [
        {
          "output_type": "execute_result",
          "data": {
            "text/plain": [
              "tensor([[2, 3],\n",
              "        [4, 5]], dtype=torch.int32)"
            ]
          },
          "metadata": {},
          "execution_count": 12
        }
      ]
    },
    {
      "cell_type": "code",
      "source": [
        "y = a+z\n",
        "y"
      ],
      "metadata": {
        "colab": {
          "base_uri": "https://localhost:8080/"
        },
        "id": "pzbdZ-r9hPHg",
        "outputId": "be9aa2df-3cb0-4188-9ad6-e09d57f3674b"
      },
      "execution_count": 14,
      "outputs": [
        {
          "output_type": "execute_result",
          "data": {
            "text/plain": [
              "tensor([[1.0155e+09, 3.2261e+04, 1.0155e+09, 1.6678e+19, 7.0976e+22],\n",
              "        [2.1715e-18, 4.2330e+21, 1.6534e+19, 1.1625e+27, 1.0000e+00],\n",
              "        [7.1856e+22, 4.3605e+27, 8.3545e+07, 7.1856e+22, 4.3605e+27],\n",
              "        [1.4580e-19, 1.8179e+31, 1.8524e+28, 1.1707e+09, 2.3732e+04]])"
            ]
          },
          "metadata": {},
          "execution_count": 14
        }
      ]
    },
    {
      "cell_type": "code",
      "source": [
        "y.dtype"
      ],
      "metadata": {
        "colab": {
          "base_uri": "https://localhost:8080/"
        },
        "id": "aVPi1lKZhev8",
        "outputId": "e0795b49-acb2-4c5e-c59c-427d0a464206"
      },
      "execution_count": 15,
      "outputs": [
        {
          "output_type": "execute_result",
          "data": {
            "text/plain": [
              "torch.float32"
            ]
          },
          "metadata": {},
          "execution_count": 15
        }
      ]
    },
    {
      "cell_type": "markdown",
      "source": [
        "\n",
        "\n",
        "> 自動轉換成精度較高的\n",
        "\n"
      ],
      "metadata": {
        "id": "Uv3G9QtShjul"
      }
    },
    {
      "cell_type": "code",
      "source": [
        "torch.add(z,a) #不用變數裝結果"
      ],
      "metadata": {
        "colab": {
          "base_uri": "https://localhost:8080/"
        },
        "id": "0ACUWzyqhiK9",
        "outputId": "0b117a0a-e1c4-456c-881e-6c92ce7b9b3c"
      },
      "execution_count": 16,
      "outputs": [
        {
          "output_type": "execute_result",
          "data": {
            "text/plain": [
              "tensor([[1.0155e+09, 3.2261e+04, 1.0155e+09, 1.6678e+19, 7.0976e+22],\n",
              "        [2.1715e-18, 4.2330e+21, 1.6534e+19, 1.1625e+27, 1.0000e+00],\n",
              "        [7.1856e+22, 4.3605e+27, 8.3545e+07, 7.1856e+22, 4.3605e+27],\n",
              "        [1.4580e-19, 1.8179e+31, 1.8524e+28, 1.1707e+09, 2.3732e+04]])"
            ]
          },
          "metadata": {},
          "execution_count": 16
        }
      ]
    },
    {
      "cell_type": "code",
      "source": [
        "a = torch.rand(4,5)\n",
        "a"
      ],
      "metadata": {
        "colab": {
          "base_uri": "https://localhost:8080/"
        },
        "id": "dOLpHLAPh4EW",
        "outputId": "77f4ce6d-a45b-496c-bb9f-cc2ebb4785f0"
      },
      "execution_count": 17,
      "outputs": [
        {
          "output_type": "execute_result",
          "data": {
            "text/plain": [
              "tensor([[0.0115, 0.2584, 0.2045, 0.2770, 0.5726],\n",
              "        [0.9515, 0.6818, 0.2742, 0.3560, 0.3468],\n",
              "        [0.5343, 0.8591, 0.1020, 0.5037, 0.4786],\n",
              "        [0.8747, 0.1235, 0.2039, 0.6848, 0.4876]])"
            ]
          },
          "metadata": {},
          "execution_count": 17
        }
      ]
    },
    {
      "cell_type": "code",
      "source": [
        "a.dtype"
      ],
      "metadata": {
        "colab": {
          "base_uri": "https://localhost:8080/"
        },
        "id": "7AWEn66OiBGx",
        "outputId": "4932c141-bf73-49c0-ebbd-7fb9a826e685"
      },
      "execution_count": 18,
      "outputs": [
        {
          "output_type": "execute_result",
          "data": {
            "text/plain": [
              "torch.float32"
            ]
          },
          "metadata": {},
          "execution_count": 18
        }
      ]
    },
    {
      "cell_type": "markdown",
      "source": [
        "### 3. numpy ↔️ tensor"
      ],
      "metadata": {
        "id": "oEVlD4FWjSlm"
      }
    },
    {
      "cell_type": "markdown",
      "source": [
        "將tensor內值取出作為array"
      ],
      "metadata": {
        "id": "IuF9uEx1iZ08"
      }
    },
    {
      "cell_type": "code",
      "source": [
        "b = a.numpy()\n",
        "b"
      ],
      "metadata": {
        "colab": {
          "base_uri": "https://localhost:8080/"
        },
        "id": "j5Mc-amziP72",
        "outputId": "82bcf9c1-c701-4e8a-c33d-64ec532df6f9"
      },
      "execution_count": 22,
      "outputs": [
        {
          "output_type": "execute_result",
          "data": {
            "text/plain": [
              "array([[0.01147407, 0.25844586, 0.20445067, 0.27700216, 0.5725746 ],\n",
              "       [0.9515092 , 0.6817879 , 0.27424294, 0.3560055 , 0.34679264],\n",
              "       [0.5342997 , 0.85905504, 0.1019913 , 0.5036806 , 0.47862303],\n",
              "       [0.8746893 , 0.1235171 , 0.20392609, 0.6848043 , 0.487561  ]],\n",
              "      dtype=float32)"
            ]
          },
          "metadata": {},
          "execution_count": 22
        }
      ]
    },
    {
      "cell_type": "markdown",
      "source": [
        "將 numpy 轉為 tensor"
      ],
      "metadata": {
        "id": "VJVjasGxjAaS"
      }
    },
    {
      "cell_type": "code",
      "source": [
        "import numpy as np"
      ],
      "metadata": {
        "id": "TCbnpIhNikMZ"
      },
      "execution_count": 23,
      "outputs": []
    },
    {
      "cell_type": "code",
      "source": [
        "a = np.ones(5)\n",
        "b = torch.from_numpy(a)\n",
        "a"
      ],
      "metadata": {
        "colab": {
          "base_uri": "https://localhost:8080/"
        },
        "id": "ZllBXcJLixVw",
        "outputId": "47a78d38-61c8-4225-a4f3-0cb0a52cf6ba"
      },
      "execution_count": 25,
      "outputs": [
        {
          "output_type": "execute_result",
          "data": {
            "text/plain": [
              "array([1., 1., 1., 1., 1.])"
            ]
          },
          "metadata": {},
          "execution_count": 25
        }
      ]
    },
    {
      "cell_type": "code",
      "source": [
        "b"
      ],
      "metadata": {
        "colab": {
          "base_uri": "https://localhost:8080/"
        },
        "id": "WU9_JgGRi6KJ",
        "outputId": "43b4a7f7-80b5-468b-cee3-44e8088869c6"
      },
      "execution_count": 26,
      "outputs": [
        {
          "output_type": "execute_result",
          "data": {
            "text/plain": [
              "tensor([1., 1., 1., 1., 1.], dtype=torch.float64)"
            ]
          },
          "metadata": {},
          "execution_count": 26
        }
      ]
    },
    {
      "cell_type": "markdown",
      "source": [
        "\n",
        "\n",
        "> 生成出來的會是float64，與預設float32不同\n",
        "\n"
      ],
      "metadata": {
        "id": "Rm5ZFW8TjQeR"
      }
    },
    {
      "cell_type": "markdown",
      "source": [
        "## 3. 操作陣列"
      ],
      "metadata": {
        "id": "YGUfV_Egjx7-"
      }
    },
    {
      "cell_type": "code",
      "source": [
        "np.add(a, 1, out=a)\n",
        "a"
      ],
      "metadata": {
        "colab": {
          "base_uri": "https://localhost:8080/"
        },
        "id": "VEIdTFCmjI3F",
        "outputId": "d0763eac-24ca-4b7c-d57d-2992046f9bfa"
      },
      "execution_count": 27,
      "outputs": [
        {
          "output_type": "execute_result",
          "data": {
            "text/plain": [
              "array([2., 2., 2., 2., 2.])"
            ]
          },
          "metadata": {},
          "execution_count": 27
        }
      ]
    },
    {
      "cell_type": "code",
      "source": [
        "b"
      ],
      "metadata": {
        "colab": {
          "base_uri": "https://localhost:8080/"
        },
        "id": "OSh4EFmbkLak",
        "outputId": "2375ad70-c1d5-4e56-9607-f8d7cb915350"
      },
      "execution_count": 28,
      "outputs": [
        {
          "output_type": "execute_result",
          "data": {
            "text/plain": [
              "tensor([2., 2., 2., 2., 2.], dtype=torch.float64)"
            ]
          },
          "metadata": {},
          "execution_count": 28
        }
      ]
    },
    {
      "cell_type": "markdown",
      "source": [
        "\n",
        "\n",
        "> from_numpy 是 共享記憶體\n",
        "\n"
      ],
      "metadata": {
        "id": "3PUBYr_DkUrp"
      }
    },
    {
      "cell_type": "markdown",
      "source": [
        "## 4. 型別轉換"
      ],
      "metadata": {
        "id": "HhAe5nbXlhQ8"
      }
    },
    {
      "cell_type": "code",
      "source": [
        "c = b + torch.FloatTensor([1,2,3,4,5])\n",
        "c"
      ],
      "metadata": {
        "colab": {
          "base_uri": "https://localhost:8080/"
        },
        "id": "8KF5LFz3kM8G",
        "outputId": "571dd2a1-65b0-4c8b-b6e5-6cf76a6d5e4a"
      },
      "execution_count": 29,
      "outputs": [
        {
          "output_type": "execute_result",
          "data": {
            "text/plain": [
              "tensor([3., 4., 5., 6., 7.], dtype=torch.float64)"
            ]
          },
          "metadata": {},
          "execution_count": 29
        }
      ]
    },
    {
      "cell_type": "code",
      "source": [
        "c = c.float() #轉回float32\n",
        "c.dtype"
      ],
      "metadata": {
        "colab": {
          "base_uri": "https://localhost:8080/"
        },
        "id": "J3FQrGjRlAKs",
        "outputId": "ef109fce-91d4-427a-eb3a-08a1c0330388"
      },
      "execution_count": 31,
      "outputs": [
        {
          "output_type": "execute_result",
          "data": {
            "text/plain": [
              "torch.float32"
            ]
          },
          "metadata": {},
          "execution_count": 31
        }
      ]
    },
    {
      "cell_type": "code",
      "source": [
        "c = c.double() #轉回float64\n",
        "c.dtype"
      ],
      "metadata": {
        "colab": {
          "base_uri": "https://localhost:8080/"
        },
        "id": "eSfpX3mvlFMP",
        "outputId": "1a015472-0215-46f8-84fe-441bd81f88de"
      },
      "execution_count": 32,
      "outputs": [
        {
          "output_type": "execute_result",
          "data": {
            "text/plain": [
              "torch.float64"
            ]
          },
          "metadata": {},
          "execution_count": 32
        }
      ]
    },
    {
      "cell_type": "code",
      "source": [
        "c = c.int() #轉int32\n",
        "c.dtype"
      ],
      "metadata": {
        "colab": {
          "base_uri": "https://localhost:8080/"
        },
        "id": "GrGttSuJleZb",
        "outputId": "312d4ab4-2f7c-475d-dd9f-be0efda35e29"
      },
      "execution_count": 33,
      "outputs": [
        {
          "output_type": "execute_result",
          "data": {
            "text/plain": [
              "torch.int32"
            ]
          },
          "metadata": {},
          "execution_count": 33
        }
      ]
    },
    {
      "cell_type": "markdown",
      "source": [
        "## 5. torch尺寸變化"
      ],
      "metadata": {
        "id": "TF51H_mymmfn"
      }
    },
    {
      "cell_type": "code",
      "source": [
        "x = torch.zeros(2,1,2,1,2)\n",
        "x.size()"
      ],
      "metadata": {
        "colab": {
          "base_uri": "https://localhost:8080/"
        },
        "id": "SKAUYUPflvRd",
        "outputId": "9916f27b-736c-4ece-841d-4b65312a76c3"
      },
      "execution_count": 36,
      "outputs": [
        {
          "output_type": "execute_result",
          "data": {
            "text/plain": [
              "torch.Size([2, 1, 2, 1, 2])"
            ]
          },
          "metadata": {},
          "execution_count": 36
        }
      ]
    },
    {
      "cell_type": "code",
      "source": [
        "x"
      ],
      "metadata": {
        "colab": {
          "base_uri": "https://localhost:8080/"
        },
        "id": "B6ABbJycmEL2",
        "outputId": "6781ee7a-3d32-40a3-e9b7-0112ea6a2885"
      },
      "execution_count": 37,
      "outputs": [
        {
          "output_type": "execute_result",
          "data": {
            "text/plain": [
              "tensor([[[[[0., 0.]],\n",
              "\n",
              "          [[0., 0.]]]],\n",
              "\n",
              "\n",
              "\n",
              "        [[[[0., 0.]],\n",
              "\n",
              "          [[0., 0.]]]]])"
            ]
          },
          "metadata": {},
          "execution_count": 37
        }
      ]
    },
    {
      "cell_type": "markdown",
      "source": [
        "消掉多餘維度"
      ],
      "metadata": {
        "id": "0_AVp6WrnCFu"
      }
    },
    {
      "cell_type": "code",
      "source": [
        "y = torch.squeeze(x)\n",
        "y.size()"
      ],
      "metadata": {
        "colab": {
          "base_uri": "https://localhost:8080/"
        },
        "id": "wbqbP41AmZz2",
        "outputId": "89c4c86f-8dd0-4e3a-d62d-8b1f2c4656ff"
      },
      "execution_count": 38,
      "outputs": [
        {
          "output_type": "execute_result",
          "data": {
            "text/plain": [
              "torch.Size([2, 2, 2])"
            ]
          },
          "metadata": {},
          "execution_count": 38
        }
      ]
    },
    {
      "cell_type": "code",
      "source": [
        "y"
      ],
      "metadata": {
        "colab": {
          "base_uri": "https://localhost:8080/"
        },
        "id": "yAEbbRZtm4F5",
        "outputId": "7355dfd6-281b-4bc5-8fb2-2c2df828bc33"
      },
      "execution_count": 39,
      "outputs": [
        {
          "output_type": "execute_result",
          "data": {
            "text/plain": [
              "tensor([[[0., 0.],\n",
              "         [0., 0.]],\n",
              "\n",
              "        [[0., 0.],\n",
              "         [0., 0.]]])"
            ]
          },
          "metadata": {},
          "execution_count": 39
        }
      ]
    },
    {
      "cell_type": "markdown",
      "source": [
        "指定消掉的維度"
      ],
      "metadata": {
        "id": "DCJn-uq-m81S"
      }
    },
    {
      "cell_type": "code",
      "source": [
        "y = torch.squeeze(x,0)\n",
        "y.size()"
      ],
      "metadata": {
        "colab": {
          "base_uri": "https://localhost:8080/"
        },
        "id": "X__TlYuBm5FE",
        "outputId": "f7c5ed44-2a13-4505-9403-db11b7004123"
      },
      "execution_count": 40,
      "outputs": [
        {
          "output_type": "execute_result",
          "data": {
            "text/plain": [
              "torch.Size([2, 1, 2, 1, 2])"
            ]
          },
          "metadata": {},
          "execution_count": 40
        }
      ]
    },
    {
      "cell_type": "code",
      "source": [
        "y = torch.squeeze(x,1)\n",
        "y.size()"
      ],
      "metadata": {
        "colab": {
          "base_uri": "https://localhost:8080/"
        },
        "id": "ovsSy3TTnVgF",
        "outputId": "ab4ab29c-6c15-499c-9ac6-02550acffd69"
      },
      "execution_count": 41,
      "outputs": [
        {
          "output_type": "execute_result",
          "data": {
            "text/plain": [
              "torch.Size([2, 2, 1, 2])"
            ]
          },
          "metadata": {},
          "execution_count": 41
        }
      ]
    },
    {
      "cell_type": "code",
      "source": [
        "y = torch.squeeze(y,2)\n",
        "y.size()"
      ],
      "metadata": {
        "colab": {
          "base_uri": "https://localhost:8080/"
        },
        "id": "MLyk8kAcnaIF",
        "outputId": "0dc6b7f5-f1a3-48ef-e7c7-6be0d1c5afdf"
      },
      "execution_count": 42,
      "outputs": [
        {
          "output_type": "execute_result",
          "data": {
            "text/plain": [
              "torch.Size([2, 2, 2])"
            ]
          },
          "metadata": {},
          "execution_count": 42
        }
      ]
    },
    {
      "cell_type": "markdown",
      "source": [
        "## 6. 數值設定"
      ],
      "metadata": {
        "id": "0g_jzQHto95_"
      }
    },
    {
      "cell_type": "markdown",
      "source": [
        "絕對值"
      ],
      "metadata": {
        "id": "aVli3DtlpgmJ"
      }
    },
    {
      "cell_type": "code",
      "source": [
        "torch.abs(torch.FloatTensor([-1,-2,-3]))"
      ],
      "metadata": {
        "colab": {
          "base_uri": "https://localhost:8080/"
        },
        "id": "VdHQBjNQo80d",
        "outputId": "4af70900-cf99-411c-95a8-c512b71736b3"
      },
      "execution_count": 43,
      "outputs": [
        {
          "output_type": "execute_result",
          "data": {
            "text/plain": [
              "tensor([1., 2., 3.])"
            ]
          },
          "metadata": {},
          "execution_count": 43
        }
      ]
    },
    {
      "cell_type": "markdown",
      "source": [
        "有正有負"
      ],
      "metadata": {
        "id": "ptZNobOepYmp"
      }
    },
    {
      "cell_type": "code",
      "source": [
        "a = torch.randn(4)\n",
        "a"
      ],
      "metadata": {
        "colab": {
          "base_uri": "https://localhost:8080/"
        },
        "id": "W_4-RqpgpTkk",
        "outputId": "f33d3f0f-6e76-4f54-8306-5662e76f1474"
      },
      "execution_count": 44,
      "outputs": [
        {
          "output_type": "execute_result",
          "data": {
            "text/plain": [
              "tensor([ 0.9406, -1.6453, -0.4048, -1.5210])"
            ]
          },
          "metadata": {},
          "execution_count": 44
        }
      ]
    },
    {
      "cell_type": "code",
      "source": [
        "b = torch.add(a, 20)\n",
        "b"
      ],
      "metadata": {
        "colab": {
          "base_uri": "https://localhost:8080/"
        },
        "id": "ohcpA0LFpr9t",
        "outputId": "84dc4c3e-8dcf-433d-ccfb-98e48585f765"
      },
      "execution_count": 45,
      "outputs": [
        {
          "output_type": "execute_result",
          "data": {
            "text/plain": [
              "tensor([20.9406, 18.3547, 19.5952, 18.4790])"
            ]
          },
          "metadata": {},
          "execution_count": 45
        }
      ]
    },
    {
      "cell_type": "code",
      "source": [
        "c = torch.mul(a, 0.1)\n",
        "c"
      ],
      "metadata": {
        "colab": {
          "base_uri": "https://localhost:8080/"
        },
        "id": "eCb5fnTWqGc4",
        "outputId": "06cf90d0-8ef5-443d-9412-d619b80ba9b8"
      },
      "execution_count": 46,
      "outputs": [
        {
          "output_type": "execute_result",
          "data": {
            "text/plain": [
              "tensor([ 0.0941, -0.1645, -0.0405, -0.1521])"
            ]
          },
          "metadata": {},
          "execution_count": 46
        }
      ]
    },
    {
      "cell_type": "code",
      "source": [
        "d = torch.mul(a,b)\n",
        "d"
      ],
      "metadata": {
        "colab": {
          "base_uri": "https://localhost:8080/"
        },
        "id": "TR9oFt6_qNQa",
        "outputId": "10079e10-e8b4-4046-8b7f-5beb2511149f"
      },
      "execution_count": 47,
      "outputs": [
        {
          "output_type": "execute_result",
          "data": {
            "text/plain": [
              "tensor([ 19.6978, -30.1989,  -7.9313, -28.1067])"
            ]
          },
          "metadata": {},
          "execution_count": 47
        }
      ]
    },
    {
      "cell_type": "markdown",
      "source": [
        "矩陣乘法"
      ],
      "metadata": {
        "id": "7OPcJyicqaNp"
      }
    },
    {
      "cell_type": "code",
      "source": [
        "x = torch.rand(2,3)\n",
        "y = torch.rand(3,2)\n",
        "x"
      ],
      "metadata": {
        "colab": {
          "base_uri": "https://localhost:8080/"
        },
        "id": "HZ5_Tw6FqVkA",
        "outputId": "eacec566-824c-4123-f95d-dc46373a9aa0"
      },
      "execution_count": 48,
      "outputs": [
        {
          "output_type": "execute_result",
          "data": {
            "text/plain": [
              "tensor([[0.6726, 0.7730, 0.6075],\n",
              "        [0.3401, 0.3616, 0.3207]])"
            ]
          },
          "metadata": {},
          "execution_count": 48
        }
      ]
    },
    {
      "cell_type": "code",
      "source": [
        "y"
      ],
      "metadata": {
        "colab": {
          "base_uri": "https://localhost:8080/"
        },
        "id": "kR-m7hQ_qnQI",
        "outputId": "9247a6c0-8dc6-49f0-afb5-72d97c8db5cf"
      },
      "execution_count": 49,
      "outputs": [
        {
          "output_type": "execute_result",
          "data": {
            "text/plain": [
              "tensor([[0.5975, 0.7504],\n",
              "        [0.5481, 0.4477],\n",
              "        [0.9324, 0.6287]])"
            ]
          },
          "metadata": {},
          "execution_count": 49
        }
      ]
    },
    {
      "cell_type": "markdown",
      "source": [
        "有順序性"
      ],
      "metadata": {
        "id": "J-ec85wP4w4Q"
      }
    },
    {
      "cell_type": "code",
      "source": [
        "d = torch.matmul(x,y)\n",
        "d"
      ],
      "metadata": {
        "colab": {
          "base_uri": "https://localhost:8080/"
        },
        "id": "P64TZoBzqoBd",
        "outputId": "9f797718-657b-41bc-e842-822aed14f983"
      },
      "execution_count": 50,
      "outputs": [
        {
          "output_type": "execute_result",
          "data": {
            "text/plain": [
              "tensor([[1.3920, 1.2327],\n",
              "        [0.7005, 0.6188]])"
            ]
          },
          "metadata": {},
          "execution_count": 50
        }
      ]
    },
    {
      "cell_type": "code",
      "source": [
        "d = torch.matmul(y,x)\n",
        "d"
      ],
      "metadata": {
        "colab": {
          "base_uri": "https://localhost:8080/"
        },
        "id": "4LU7M8il4mmE",
        "outputId": "97c3d600-7a20-4e65-b418-ebd097f20e6c"
      },
      "execution_count": 51,
      "outputs": [
        {
          "output_type": "execute_result",
          "data": {
            "text/plain": [
              "tensor([[0.6571, 0.7332, 0.6037],\n",
              "        [0.5209, 0.5855, 0.4766],\n",
              "        [0.8410, 0.9481, 0.7681]])"
            ]
          },
          "metadata": {},
          "execution_count": 51
        }
      ]
    },
    {
      "cell_type": "code",
      "source": [
        "y.size()"
      ],
      "metadata": {
        "colab": {
          "base_uri": "https://localhost:8080/"
        },
        "id": "D7DMNJkx4rt8",
        "outputId": "0965872c-1a3a-4587-cee0-e9eafdfbfce9"
      },
      "execution_count": 52,
      "outputs": [
        {
          "output_type": "execute_result",
          "data": {
            "text/plain": [
              "torch.Size([3, 2])"
            ]
          },
          "metadata": {},
          "execution_count": 52
        }
      ]
    },
    {
      "cell_type": "markdown",
      "source": [
        "## 7. 平均"
      ],
      "metadata": {
        "id": "RikQAOdm5KQi"
      }
    },
    {
      "cell_type": "code",
      "source": [
        "y.mean()"
      ],
      "metadata": {
        "colab": {
          "base_uri": "https://localhost:8080/"
        },
        "id": "BqiecFIg5POn",
        "outputId": "d9e7ed0c-c8ed-4e96-c76d-efb825448334"
      },
      "execution_count": 53,
      "outputs": [
        {
          "output_type": "execute_result",
          "data": {
            "text/plain": [
              "tensor(0.6508)"
            ]
          },
          "metadata": {},
          "execution_count": 53
        }
      ]
    },
    {
      "cell_type": "code",
      "source": [
        "k = y.mean()\n",
        "k.data.dtype"
      ],
      "metadata": {
        "colab": {
          "base_uri": "https://localhost:8080/"
        },
        "id": "3RuglmNF5HoY",
        "outputId": "151d61b7-96d6-4381-ea7f-6e1cfaf87dae"
      },
      "execution_count": 55,
      "outputs": [
        {
          "output_type": "execute_result",
          "data": {
            "text/plain": [
              "torch.float32"
            ]
          },
          "metadata": {},
          "execution_count": 55
        }
      ]
    },
    {
      "cell_type": "code",
      "source": [
        "torch.mean(y)"
      ],
      "metadata": {
        "colab": {
          "base_uri": "https://localhost:8080/"
        },
        "id": "0xY-2rKb5i_e",
        "outputId": "314f296d-ce63-4974-b143-849d5d3cde74"
      },
      "execution_count": 57,
      "outputs": [
        {
          "output_type": "execute_result",
          "data": {
            "text/plain": [
              "tensor(0.6508)"
            ]
          },
          "metadata": {},
          "execution_count": 57
        }
      ]
    },
    {
      "cell_type": "markdown",
      "source": [
        "Row 的平均"
      ],
      "metadata": {
        "id": "BGL9wZC453QV"
      }
    },
    {
      "cell_type": "markdown",
      "source": [
        "```\n",
        " tensor([[0.5975⬇️, 0.7504]⬇️,       \n",
        "     [0.5481 , 0.4477],\n",
        "     [0.9324 , 0.6287]])\n",
        "```\n"
      ],
      "metadata": {
        "id": "u3r6LAYM7JYN"
      }
    },
    {
      "cell_type": "code",
      "source": [
        "torch.mean(y,0)"
      ],
      "metadata": {
        "colab": {
          "base_uri": "https://localhost:8080/"
        },
        "id": "KG34O9yg5mdH",
        "outputId": "875f1039-6b28-4ec5-8f4d-06e6a4d5113b"
      },
      "execution_count": 58,
      "outputs": [
        {
          "output_type": "execute_result",
          "data": {
            "text/plain": [
              "tensor([0.6927, 0.6089])"
            ]
          },
          "metadata": {},
          "execution_count": 58
        }
      ]
    },
    {
      "cell_type": "markdown",
      "source": [
        "column 的平均"
      ],
      "metadata": {
        "id": "DZhIMYN172zC"
      }
    },
    {
      "cell_type": "markdown",
      "source": [
        "\n",
        "```\n",
        " tensor([[0.5975➡️, 0.7504],       \n",
        "     [0.5481➡️ , 0.4477],\n",
        "     [0.9324➡️ , 0.6287]])\n",
        "```\n",
        "\n"
      ],
      "metadata": {
        "id": "mAJO5APt7tzx"
      }
    },
    {
      "cell_type": "code",
      "source": [
        "torch.mean(y,1)"
      ],
      "metadata": {
        "colab": {
          "base_uri": "https://localhost:8080/"
        },
        "id": "u0iyp6wI5-b9",
        "outputId": "afc31384-69ad-4572-dd38-df4cbef00f25"
      },
      "execution_count": 59,
      "outputs": [
        {
          "output_type": "execute_result",
          "data": {
            "text/plain": [
              "tensor([0.6739, 0.4979, 0.7806])"
            ]
          },
          "metadata": {},
          "execution_count": 59
        }
      ]
    },
    {
      "cell_type": "markdown",
      "source": [
        "## 8. 比較"
      ],
      "metadata": {
        "id": "7fG26vtm8OoL"
      }
    },
    {
      "cell_type": "code",
      "source": [
        "x = torch.Tensor([[1,2],[3,4]])\n",
        "y = torch.Tensor([[1,1],[4,4]])\n",
        "x"
      ],
      "metadata": {
        "colab": {
          "base_uri": "https://localhost:8080/"
        },
        "id": "-Nn4qf_56Ew_",
        "outputId": "c62c5ba3-ef2f-4d94-9a81-ab57020d9573"
      },
      "execution_count": 61,
      "outputs": [
        {
          "output_type": "execute_result",
          "data": {
            "text/plain": [
              "tensor([[1., 2.],\n",
              "        [3., 4.]])"
            ]
          },
          "metadata": {},
          "execution_count": 61
        }
      ]
    },
    {
      "cell_type": "code",
      "source": [
        "y"
      ],
      "metadata": {
        "colab": {
          "base_uri": "https://localhost:8080/"
        },
        "id": "crTJwoPB8dpw",
        "outputId": "fd093048-2fc0-4db9-84e8-c3dab8cab64f"
      },
      "execution_count": 62,
      "outputs": [
        {
          "output_type": "execute_result",
          "data": {
            "text/plain": [
              "tensor([[1., 1.],\n",
              "        [4., 4.]])"
            ]
          },
          "metadata": {},
          "execution_count": 62
        }
      ]
    },
    {
      "cell_type": "code",
      "source": [
        "torch.eq(x,y) #比較裡面的值是否相同"
      ],
      "metadata": {
        "colab": {
          "base_uri": "https://localhost:8080/"
        },
        "id": "vG3HIFAh8k0s",
        "outputId": "37f25d44-18e5-47a8-a30b-80221ef83363"
      },
      "execution_count": 64,
      "outputs": [
        {
          "output_type": "execute_result",
          "data": {
            "text/plain": [
              "tensor([[ True, False],\n",
              "        [False,  True]])"
            ]
          },
          "metadata": {},
          "execution_count": 64
        }
      ]
    },
    {
      "cell_type": "code",
      "source": [
        "torch.equal(y,y) #比較矩陣是否相同"
      ],
      "metadata": {
        "colab": {
          "base_uri": "https://localhost:8080/"
        },
        "id": "FEa3MwpO8ukv",
        "outputId": "85cc0d9a-4055-4630-9e24-a0da1fcee254"
      },
      "execution_count": 68,
      "outputs": [
        {
          "output_type": "execute_result",
          "data": {
            "text/plain": [
              "True"
            ]
          },
          "metadata": {},
          "execution_count": 68
        }
      ]
    },
    {
      "cell_type": "code",
      "source": [
        "torch.ge(x,y) #>=大於等於"
      ],
      "metadata": {
        "colab": {
          "base_uri": "https://localhost:8080/"
        },
        "id": "rTpeiSKi9BbS",
        "outputId": "618b916f-a7a6-4bca-c2c3-f099fdefb5e3"
      },
      "execution_count": 69,
      "outputs": [
        {
          "output_type": "execute_result",
          "data": {
            "text/plain": [
              "tensor([[ True,  True],\n",
              "        [False,  True]])"
            ]
          },
          "metadata": {},
          "execution_count": 69
        }
      ]
    },
    {
      "cell_type": "code",
      "source": [
        "torch.le(x,y) #<=小於等於"
      ],
      "metadata": {
        "colab": {
          "base_uri": "https://localhost:8080/"
        },
        "id": "wd0lsrBF9OdL",
        "outputId": "f15feb4c-c84e-466d-c81f-af3f2c15c047"
      },
      "execution_count": 70,
      "outputs": [
        {
          "output_type": "execute_result",
          "data": {
            "text/plain": [
              "tensor([[ True, False],\n",
              "        [ True,  True]])"
            ]
          },
          "metadata": {},
          "execution_count": 70
        }
      ]
    },
    {
      "cell_type": "code",
      "source": [
        "torch.gt(x,y) #>大於"
      ],
      "metadata": {
        "colab": {
          "base_uri": "https://localhost:8080/"
        },
        "id": "tPl_fCok9WfY",
        "outputId": "1bfecb3a-1874-4aa7-fb67-2b8adeb0cc46"
      },
      "execution_count": 71,
      "outputs": [
        {
          "output_type": "execute_result",
          "data": {
            "text/plain": [
              "tensor([[False,  True],\n",
              "        [False, False]])"
            ]
          },
          "metadata": {},
          "execution_count": 71
        }
      ]
    },
    {
      "cell_type": "code",
      "source": [
        "torch.lt(x,y) #<小於"
      ],
      "metadata": {
        "colab": {
          "base_uri": "https://localhost:8080/"
        },
        "id": "pwN_OeeG9fbT",
        "outputId": "e0cda966-92d6-4f0a-d892-3220e0e9f1ed"
      },
      "execution_count": 72,
      "outputs": [
        {
          "output_type": "execute_result",
          "data": {
            "text/plain": [
              "tensor([[False, False],\n",
              "        [ True, False]])"
            ]
          },
          "metadata": {},
          "execution_count": 72
        }
      ]
    }
  ]
}